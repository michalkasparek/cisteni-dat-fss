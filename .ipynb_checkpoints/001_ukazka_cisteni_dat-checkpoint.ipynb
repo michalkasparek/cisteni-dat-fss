{
 "cells": [
  {
   "cell_type": "markdown",
   "id": "d7590962-5a40-4ebd-a064-eb56e3584515",
   "metadata": {},
   "source": [
    "Názorně si předvedeme typické úkony, se kterými se setkáváme při čištění dat oscrapovaných z webu anebo stažených z nepříliš uspořádaných zdrojů. Všechny probléémy se zde budou motat kolem stejného motivu, který může člověka stát většinu času na celé datové analýze: jednotlivé sloupce/série obsahují data, která snadno pochopíme my lidé, ale počítač neví, jak je má správně interpretovat. Jejich zápis tedy musíme sjednotit, případně počítači říct, co přesně má udělat, když něčemu nebude rozumět. Zároveň mohou být v datech nenápadné chyby.\n",
    "\n",
    "Nejprve je nutné importovat knihovny, které nám s tím pomůžou, v tomto případě **re**, která umožňuje pracovat s tzv. regulárními výrazy (popisují vzorce v textu, jako např. \"4 čísla po sobě\", [více o nich třeba zde](https://www.regularnivyrazy.info/shrnuti-syntaxe.html)), a **pandas**, nejvyužívanější pythonovskou knihovnu pro práci s daty. (Knihovna **os** zde slouží jen předcházení chyb při práci s adresáři a **statistics** umožní spočítat medián ještě před načtením dat do pandas.)\n",
    "\n",
    "Tento sešit můžete stáhnout na svůj počítač a rozběhnout na něm. Nejjednodušší cesta, jak si opatřit potřebné nástroje, je nainstalovat [Anacondu](https://www.anaconda.com/download), která obsahuje Python, pandas i Jupyter Notebooks. (Lze je obstarat i samostatně, což ale spíš nedoporučuji. Ve všech případech jde o nástroje dostupné bezplatně.)"
   ]
  },
  {
   "cell_type": "code",
   "execution_count": 351,
   "id": "9dd34f6b-27cd-4712-8960-6395b477f400",
   "metadata": {},
   "outputs": [],
   "source": [
    "import os\n",
    "import re\n",
    "import statistics\n",
    "import pandas as pd"
   ]
  },
  {
   "cell_type": "markdown",
   "id": "bab671cf-24bb-4a08-86fe-2f23ae741fc9",
   "metadata": {},
   "source": [
    "Pak si načteme zdrojová data, která se vždy snažíme držet v jiných adresářích než data čistá. Toto bychom viděli, kdybychom tabulku ve formátu CSV otevřeli v texťáku:\n",
    "\n",
    "![surová data](surova_data.png)"
   ]
  },
  {
   "cell_type": "code",
   "execution_count": 353,
   "id": "c5aef619-10c3-460c-91aa-67ca241a287d",
   "metadata": {},
   "outputs": [],
   "source": [
    "df = pd.read_csv(os.path.join(\"zdrojova_data\",\"zdrojova_data.csv\"))"
   ]
  },
  {
   "cell_type": "markdown",
   "id": "36a697d8-7a19-466e-ba2c-a9cc354fb249",
   "metadata": {},
   "source": [
    "Jak data vypadají zde?"
   ]
  },
  {
   "cell_type": "code",
   "execution_count": 355,
   "id": "2900d1d3-1e34-471e-be93-7b2cce3ab626",
   "metadata": {},
   "outputs": [
    {
     "data": {
      "text/html": [
       "<div>\n",
       "<style scoped>\n",
       "    .dataframe tbody tr th:only-of-type {\n",
       "        vertical-align: middle;\n",
       "    }\n",
       "\n",
       "    .dataframe tbody tr th {\n",
       "        vertical-align: top;\n",
       "    }\n",
       "\n",
       "    .dataframe thead th {\n",
       "        text-align: right;\n",
       "    }\n",
       "</style>\n",
       "<table border=\"1\" class=\"dataframe\">\n",
       "  <thead>\n",
       "    <tr style=\"text-align: right;\">\n",
       "      <th></th>\n",
       "      <th>Albína</th>\n",
       "      <th>1984-07-30</th>\n",
       "      <th>Brno</th>\n",
       "      <th>45,000</th>\n",
       "    </tr>\n",
       "  </thead>\n",
       "  <tbody>\n",
       "    <tr>\n",
       "      <th>0</th>\n",
       "      <td>Bedřich</td>\n",
       "      <td>1987-06-15</td>\n",
       "      <td>Brno-Královo Pole</td>\n",
       "      <td>43000</td>\n",
       "    </tr>\n",
       "    <tr>\n",
       "      <th>1</th>\n",
       "      <td>Cecílie</td>\n",
       "      <td>jaro 1986</td>\n",
       "      <td>Blansko</td>\n",
       "      <td>45000-48000 (podle měsíce)</td>\n",
       "    </tr>\n",
       "    <tr>\n",
       "      <th>2</th>\n",
       "      <td>Dobromila</td>\n",
       "      <td>1994-12-01</td>\n",
       "      <td>Brno</td>\n",
       "      <td>39000</td>\n",
       "    </tr>\n",
       "    <tr>\n",
       "      <th>3</th>\n",
       "      <td>Emanuel</td>\n",
       "      <td>1988-01-21</td>\n",
       "      <td>Blansko</td>\n",
       "      <td>3900</td>\n",
       "    </tr>\n",
       "  </tbody>\n",
       "</table>\n",
       "</div>"
      ],
      "text/plain": [
       "      Albína  1984-07-30               Brno                      45,000\n",
       "0    Bedřich  1987-06-15  Brno-Královo Pole                       43000\n",
       "1    Cecílie   jaro 1986            Blansko  45000-48000 (podle měsíce)\n",
       "2  Dobromila  1994-12-01               Brno                       39000\n",
       "3    Emanuel  1988-01-21            Blansko                        3900"
      ]
     },
     "execution_count": 355,
     "metadata": {},
     "output_type": "execute_result"
    }
   ],
   "source": [
    "df"
   ]
  },
  {
   "cell_type": "markdown",
   "id": "d15d4648-de04-4057-8efa-8ff854899f02",
   "metadata": {},
   "source": [
    "Hned vidíme, že jim chybí záhlaví. Znovu a lépe s header=None:"
   ]
  },
  {
   "cell_type": "code",
   "execution_count": 357,
   "id": "f93d022b-e128-4ae0-a4d8-f05b67af5cc5",
   "metadata": {},
   "outputs": [],
   "source": [
    "df = pd.read_csv(os.path.join(\"zdrojova_data\",\"zdrojova_data.csv\"), header=None)"
   ]
  },
  {
   "cell_type": "code",
   "execution_count": 358,
   "id": "f556e72b-2d77-439c-9782-e127278f517c",
   "metadata": {},
   "outputs": [
    {
     "data": {
      "text/html": [
       "<div>\n",
       "<style scoped>\n",
       "    .dataframe tbody tr th:only-of-type {\n",
       "        vertical-align: middle;\n",
       "    }\n",
       "\n",
       "    .dataframe tbody tr th {\n",
       "        vertical-align: top;\n",
       "    }\n",
       "\n",
       "    .dataframe thead th {\n",
       "        text-align: right;\n",
       "    }\n",
       "</style>\n",
       "<table border=\"1\" class=\"dataframe\">\n",
       "  <thead>\n",
       "    <tr style=\"text-align: right;\">\n",
       "      <th></th>\n",
       "      <th>0</th>\n",
       "      <th>1</th>\n",
       "      <th>2</th>\n",
       "      <th>3</th>\n",
       "    </tr>\n",
       "  </thead>\n",
       "  <tbody>\n",
       "    <tr>\n",
       "      <th>0</th>\n",
       "      <td>Albína</td>\n",
       "      <td>1984-07-30</td>\n",
       "      <td>Brno</td>\n",
       "      <td>45,000</td>\n",
       "    </tr>\n",
       "    <tr>\n",
       "      <th>1</th>\n",
       "      <td>Bedřich</td>\n",
       "      <td>1987-06-15</td>\n",
       "      <td>Brno-Královo Pole</td>\n",
       "      <td>43000</td>\n",
       "    </tr>\n",
       "    <tr>\n",
       "      <th>2</th>\n",
       "      <td>Cecílie</td>\n",
       "      <td>jaro 1986</td>\n",
       "      <td>Blansko</td>\n",
       "      <td>45000-48000 (podle měsíce)</td>\n",
       "    </tr>\n",
       "    <tr>\n",
       "      <th>3</th>\n",
       "      <td>Dobromila</td>\n",
       "      <td>1994-12-01</td>\n",
       "      <td>Brno</td>\n",
       "      <td>39000</td>\n",
       "    </tr>\n",
       "    <tr>\n",
       "      <th>4</th>\n",
       "      <td>Emanuel</td>\n",
       "      <td>1988-01-21</td>\n",
       "      <td>Blansko</td>\n",
       "      <td>3900</td>\n",
       "    </tr>\n",
       "  </tbody>\n",
       "</table>\n",
       "</div>"
      ],
      "text/plain": [
       "           0           1                  2                           3\n",
       "0     Albína  1984-07-30               Brno                      45,000\n",
       "1    Bedřich  1987-06-15  Brno-Královo Pole                       43000\n",
       "2    Cecílie   jaro 1986            Blansko  45000-48000 (podle měsíce)\n",
       "3  Dobromila  1994-12-01               Brno                       39000\n",
       "4    Emanuel  1988-01-21            Blansko                        3900"
      ]
     },
     "execution_count": 358,
     "metadata": {},
     "output_type": "execute_result"
    }
   ],
   "source": [
    "df"
   ]
  },
  {
   "cell_type": "markdown",
   "id": "a5c2dff9-0470-41ee-b1fb-6e0def14d126",
   "metadata": {},
   "source": [
    "Budeme chtít přejmenovat sloupce, abychom se na ně v kódu mohli snadno odkazovat:"
   ]
  },
  {
   "cell_type": "code",
   "execution_count": 360,
   "id": "d05f1b83-aa32-4b66-a0a5-e63e309a162d",
   "metadata": {},
   "outputs": [],
   "source": [
    "df = df.rename(columns={0: \"jméno\", 1: \"datum_narození\", 2: \"místo_narození\", 3: \"plat\"})"
   ]
  },
  {
   "cell_type": "code",
   "execution_count": 361,
   "id": "4ddb8712-9d5b-4ea7-ae34-a516146016af",
   "metadata": {},
   "outputs": [
    {
     "data": {
      "text/html": [
       "<div>\n",
       "<style scoped>\n",
       "    .dataframe tbody tr th:only-of-type {\n",
       "        vertical-align: middle;\n",
       "    }\n",
       "\n",
       "    .dataframe tbody tr th {\n",
       "        vertical-align: top;\n",
       "    }\n",
       "\n",
       "    .dataframe thead th {\n",
       "        text-align: right;\n",
       "    }\n",
       "</style>\n",
       "<table border=\"1\" class=\"dataframe\">\n",
       "  <thead>\n",
       "    <tr style=\"text-align: right;\">\n",
       "      <th></th>\n",
       "      <th>jméno</th>\n",
       "      <th>datum_narození</th>\n",
       "      <th>místo_narození</th>\n",
       "      <th>plat</th>\n",
       "    </tr>\n",
       "  </thead>\n",
       "  <tbody>\n",
       "    <tr>\n",
       "      <th>0</th>\n",
       "      <td>Albína</td>\n",
       "      <td>1984-07-30</td>\n",
       "      <td>Brno</td>\n",
       "      <td>45,000</td>\n",
       "    </tr>\n",
       "    <tr>\n",
       "      <th>1</th>\n",
       "      <td>Bedřich</td>\n",
       "      <td>1987-06-15</td>\n",
       "      <td>Brno-Královo Pole</td>\n",
       "      <td>43000</td>\n",
       "    </tr>\n",
       "    <tr>\n",
       "      <th>2</th>\n",
       "      <td>Cecílie</td>\n",
       "      <td>jaro 1986</td>\n",
       "      <td>Blansko</td>\n",
       "      <td>45000-48000 (podle měsíce)</td>\n",
       "    </tr>\n",
       "    <tr>\n",
       "      <th>3</th>\n",
       "      <td>Dobromila</td>\n",
       "      <td>1994-12-01</td>\n",
       "      <td>Brno</td>\n",
       "      <td>39000</td>\n",
       "    </tr>\n",
       "    <tr>\n",
       "      <th>4</th>\n",
       "      <td>Emanuel</td>\n",
       "      <td>1988-01-21</td>\n",
       "      <td>Blansko</td>\n",
       "      <td>3900</td>\n",
       "    </tr>\n",
       "  </tbody>\n",
       "</table>\n",
       "</div>"
      ],
      "text/plain": [
       "       jméno datum_narození     místo_narození                        plat\n",
       "0     Albína     1984-07-30               Brno                      45,000\n",
       "1    Bedřich     1987-06-15  Brno-Královo Pole                       43000\n",
       "2    Cecílie      jaro 1986            Blansko  45000-48000 (podle měsíce)\n",
       "3  Dobromila     1994-12-01               Brno                       39000\n",
       "4    Emanuel     1988-01-21            Blansko                        3900"
      ]
     },
     "execution_count": 361,
     "metadata": {},
     "output_type": "execute_result"
    }
   ],
   "source": [
    "df"
   ]
  },
  {
   "cell_type": "markdown",
   "id": "2249ed5c-a144-4483-9cd2-62c9112d6202",
   "metadata": {},
   "source": [
    "Jaké je nejčastější místo narození?"
   ]
  },
  {
   "cell_type": "code",
   "execution_count": 363,
   "id": "6ef3655d-9a99-41fe-aa45-985ddbc41da7",
   "metadata": {},
   "outputs": [
    {
     "data": {
      "text/plain": [
       "místo_narození\n",
       "Blansko              2\n",
       "Brno                 2\n",
       "Brno-Královo Pole    1\n",
       "dtype: int64"
      ]
     },
     "execution_count": 363,
     "metadata": {},
     "output_type": "execute_result"
    }
   ],
   "source": [
    "df.groupby(\"místo_narození\").size().nlargest()"
   ]
  },
  {
   "cell_type": "markdown",
   "id": "1ff471b9-1d15-487b-b427-4ee231c241a2",
   "metadata": {},
   "source": [
    "Počkat, Královo Pole je přeci v Brně. Takže si vytvoříme nový sloupec, do kterého budeme brát pouze údaje před pomlčkou:"
   ]
  },
  {
   "cell_type": "code",
   "execution_count": 365,
   "id": "2c845ad3-84ac-46e9-8d7b-9fbaf23eabb7",
   "metadata": {},
   "outputs": [],
   "source": [
    "df['místo_narození_čisté'] = df['místo_narození'].apply(lambda x: x.split(\"-\")[0])"
   ]
  },
  {
   "cell_type": "markdown",
   "id": "7bf1fcb6-21d1-4604-9c14-b161a851955e",
   "metadata": {},
   "source": [
    "Co jsme dostali?"
   ]
  },
  {
   "cell_type": "code",
   "execution_count": 367,
   "id": "3655f702-c38f-4172-931e-2de670034a9f",
   "metadata": {},
   "outputs": [
    {
     "data": {
      "text/plain": [
       "0       Brno\n",
       "1       Brno\n",
       "2    Blansko\n",
       "3       Brno\n",
       "4    Blansko\n",
       "Name: místo_narození_čisté, dtype: object"
      ]
     },
     "execution_count": 367,
     "metadata": {},
     "output_type": "execute_result"
    }
   ],
   "source": [
    "df['místo_narození_čisté']"
   ]
  },
  {
   "cell_type": "markdown",
   "id": "8ea38e9a-78d6-4a25-90fc-1440227786d3",
   "metadata": {},
   "source": [
    "A jak vypadá žebříček teď?"
   ]
  },
  {
   "cell_type": "code",
   "execution_count": 369,
   "id": "0355ce9b-b2d1-4422-be25-5034c7b02304",
   "metadata": {},
   "outputs": [
    {
     "data": {
      "text/plain": [
       "místo_narození_čisté\n",
       "Brno       3\n",
       "Blansko    2\n",
       "dtype: int64"
      ]
     },
     "execution_count": 369,
     "metadata": {},
     "output_type": "execute_result"
    }
   ],
   "source": [
    "df.groupby(\"místo_narození_čisté\").size().nlargest()"
   ]
  },
  {
   "cell_type": "markdown",
   "id": "9addf289-ac58-449c-9eb7-2cc779796bc0",
   "metadata": {},
   "source": [
    "Teď se podíváme, kdo je nejstarší:"
   ]
  },
  {
   "cell_type": "code",
   "execution_count": 371,
   "id": "0d68696d-0b91-4189-a17c-6094dbb5b3aa",
   "metadata": {},
   "outputs": [
    {
     "data": {
      "text/html": [
       "<div>\n",
       "<style scoped>\n",
       "    .dataframe tbody tr th:only-of-type {\n",
       "        vertical-align: middle;\n",
       "    }\n",
       "\n",
       "    .dataframe tbody tr th {\n",
       "        vertical-align: top;\n",
       "    }\n",
       "\n",
       "    .dataframe thead th {\n",
       "        text-align: right;\n",
       "    }\n",
       "</style>\n",
       "<table border=\"1\" class=\"dataframe\">\n",
       "  <thead>\n",
       "    <tr style=\"text-align: right;\">\n",
       "      <th></th>\n",
       "      <th>jméno</th>\n",
       "      <th>datum_narození</th>\n",
       "      <th>místo_narození</th>\n",
       "      <th>plat</th>\n",
       "      <th>místo_narození_čisté</th>\n",
       "    </tr>\n",
       "  </thead>\n",
       "  <tbody>\n",
       "    <tr>\n",
       "      <th>0</th>\n",
       "      <td>Albína</td>\n",
       "      <td>1984-07-30</td>\n",
       "      <td>Brno</td>\n",
       "      <td>45,000</td>\n",
       "      <td>Brno</td>\n",
       "    </tr>\n",
       "    <tr>\n",
       "      <th>1</th>\n",
       "      <td>Bedřich</td>\n",
       "      <td>1987-06-15</td>\n",
       "      <td>Brno-Královo Pole</td>\n",
       "      <td>43000</td>\n",
       "      <td>Brno</td>\n",
       "    </tr>\n",
       "    <tr>\n",
       "      <th>4</th>\n",
       "      <td>Emanuel</td>\n",
       "      <td>1988-01-21</td>\n",
       "      <td>Blansko</td>\n",
       "      <td>3900</td>\n",
       "      <td>Blansko</td>\n",
       "    </tr>\n",
       "    <tr>\n",
       "      <th>3</th>\n",
       "      <td>Dobromila</td>\n",
       "      <td>1994-12-01</td>\n",
       "      <td>Brno</td>\n",
       "      <td>39000</td>\n",
       "      <td>Brno</td>\n",
       "    </tr>\n",
       "    <tr>\n",
       "      <th>2</th>\n",
       "      <td>Cecílie</td>\n",
       "      <td>jaro 1986</td>\n",
       "      <td>Blansko</td>\n",
       "      <td>45000-48000 (podle měsíce)</td>\n",
       "      <td>Blansko</td>\n",
       "    </tr>\n",
       "  </tbody>\n",
       "</table>\n",
       "</div>"
      ],
      "text/plain": [
       "       jméno datum_narození     místo_narození                        plat  \\\n",
       "0     Albína     1984-07-30               Brno                      45,000   \n",
       "1    Bedřich     1987-06-15  Brno-Královo Pole                       43000   \n",
       "4    Emanuel     1988-01-21            Blansko                        3900   \n",
       "3  Dobromila     1994-12-01               Brno                       39000   \n",
       "2    Cecílie      jaro 1986            Blansko  45000-48000 (podle měsíce)   \n",
       "\n",
       "  místo_narození_čisté  \n",
       "0                 Brno  \n",
       "1                 Brno  \n",
       "4              Blansko  \n",
       "3                 Brno  \n",
       "2              Blansko  "
      ]
     },
     "execution_count": 371,
     "metadata": {},
     "output_type": "execute_result"
    }
   ],
   "source": [
    "df.sort_values(by=\"datum_narození\")"
   ]
  },
  {
   "cell_type": "markdown",
   "id": "ff78394d-6db0-45f1-9c4b-73ba48fe5f53",
   "metadata": {},
   "source": [
    "To \"jaro\" nám to celé rozhodilo. Pro rychlé srovnání by zde stačilo najít rok narození jako 4ciferné číslo a seřadit tabulku podle něj:"
   ]
  },
  {
   "cell_type": "code",
   "execution_count": 373,
   "id": "0df516da-1511-4e37-8582-fb009ac2fe99",
   "metadata": {},
   "outputs": [],
   "source": [
    "df['rok_narození'] = df['datum_narození'].apply(lambda x: re.search(r\"\\d{4}\", x).group())"
   ]
  },
  {
   "cell_type": "code",
   "execution_count": 374,
   "id": "4d5f7a23-5835-472e-b9dd-c63189ec8b18",
   "metadata": {},
   "outputs": [
    {
     "data": {
      "text/plain": [
       "0    1984\n",
       "1    1987\n",
       "2    1986\n",
       "3    1994\n",
       "4    1988\n",
       "Name: rok_narození, dtype: object"
      ]
     },
     "execution_count": 374,
     "metadata": {},
     "output_type": "execute_result"
    }
   ],
   "source": [
    "df['rok_narození']"
   ]
  },
  {
   "cell_type": "code",
   "execution_count": 375,
   "id": "c80d6a24-34b7-4e62-85e9-02a4a95b9466",
   "metadata": {},
   "outputs": [
    {
     "data": {
      "text/html": [
       "<div>\n",
       "<style scoped>\n",
       "    .dataframe tbody tr th:only-of-type {\n",
       "        vertical-align: middle;\n",
       "    }\n",
       "\n",
       "    .dataframe tbody tr th {\n",
       "        vertical-align: top;\n",
       "    }\n",
       "\n",
       "    .dataframe thead th {\n",
       "        text-align: right;\n",
       "    }\n",
       "</style>\n",
       "<table border=\"1\" class=\"dataframe\">\n",
       "  <thead>\n",
       "    <tr style=\"text-align: right;\">\n",
       "      <th></th>\n",
       "      <th>jméno</th>\n",
       "      <th>datum_narození</th>\n",
       "      <th>místo_narození</th>\n",
       "      <th>plat</th>\n",
       "      <th>místo_narození_čisté</th>\n",
       "      <th>rok_narození</th>\n",
       "    </tr>\n",
       "  </thead>\n",
       "  <tbody>\n",
       "    <tr>\n",
       "      <th>0</th>\n",
       "      <td>Albína</td>\n",
       "      <td>1984-07-30</td>\n",
       "      <td>Brno</td>\n",
       "      <td>45,000</td>\n",
       "      <td>Brno</td>\n",
       "      <td>1984</td>\n",
       "    </tr>\n",
       "    <tr>\n",
       "      <th>2</th>\n",
       "      <td>Cecílie</td>\n",
       "      <td>jaro 1986</td>\n",
       "      <td>Blansko</td>\n",
       "      <td>45000-48000 (podle měsíce)</td>\n",
       "      <td>Blansko</td>\n",
       "      <td>1986</td>\n",
       "    </tr>\n",
       "    <tr>\n",
       "      <th>1</th>\n",
       "      <td>Bedřich</td>\n",
       "      <td>1987-06-15</td>\n",
       "      <td>Brno-Královo Pole</td>\n",
       "      <td>43000</td>\n",
       "      <td>Brno</td>\n",
       "      <td>1987</td>\n",
       "    </tr>\n",
       "    <tr>\n",
       "      <th>4</th>\n",
       "      <td>Emanuel</td>\n",
       "      <td>1988-01-21</td>\n",
       "      <td>Blansko</td>\n",
       "      <td>3900</td>\n",
       "      <td>Blansko</td>\n",
       "      <td>1988</td>\n",
       "    </tr>\n",
       "    <tr>\n",
       "      <th>3</th>\n",
       "      <td>Dobromila</td>\n",
       "      <td>1994-12-01</td>\n",
       "      <td>Brno</td>\n",
       "      <td>39000</td>\n",
       "      <td>Brno</td>\n",
       "      <td>1994</td>\n",
       "    </tr>\n",
       "  </tbody>\n",
       "</table>\n",
       "</div>"
      ],
      "text/plain": [
       "       jméno datum_narození     místo_narození                        plat  \\\n",
       "0     Albína     1984-07-30               Brno                      45,000   \n",
       "2    Cecílie      jaro 1986            Blansko  45000-48000 (podle měsíce)   \n",
       "1    Bedřich     1987-06-15  Brno-Královo Pole                       43000   \n",
       "4    Emanuel     1988-01-21            Blansko                        3900   \n",
       "3  Dobromila     1994-12-01               Brno                       39000   \n",
       "\n",
       "  místo_narození_čisté rok_narození  \n",
       "0                 Brno         1984  \n",
       "2              Blansko         1986  \n",
       "1                 Brno         1987  \n",
       "4              Blansko         1988  \n",
       "3                 Brno         1994  "
      ]
     },
     "execution_count": 375,
     "metadata": {},
     "output_type": "execute_result"
    }
   ],
   "source": [
    "df.sort_values(by='rok_narození')"
   ]
  },
  {
   "cell_type": "markdown",
   "id": "fe6a41c1-707b-4f36-8103-5185c0b26f4d",
   "metadata": {},
   "source": [
    "Prima! Obvykle je ale nejlepší postup využít metodu pd.to_datetime:"
   ]
  },
  {
   "cell_type": "code",
   "execution_count": 377,
   "id": "d4c5a521-6295-45dd-9447-b7bfc1adc99d",
   "metadata": {},
   "outputs": [
    {
     "ename": "ValueError",
     "evalue": "time data \"jaro 1986\" doesn't match format \"%Y-%m-%d\", at position 2. You might want to try:\n    - passing `format` if your strings have a consistent format;\n    - passing `format='ISO8601'` if your strings are all ISO8601 but not necessarily in exactly the same format;\n    - passing `format='mixed'`, and the format will be inferred for each element individually. You might want to use `dayfirst` alongside this.",
     "output_type": "error",
     "traceback": [
      "\u001b[1;31m---------------------------------------------------------------------------\u001b[0m",
      "\u001b[1;31mValueError\u001b[0m                                Traceback (most recent call last)",
      "Cell \u001b[1;32mIn[377], line 1\u001b[0m\n\u001b[1;32m----> 1\u001b[0m df[\u001b[38;5;124m'\u001b[39m\u001b[38;5;124mdatum_narození_čisté\u001b[39m\u001b[38;5;124m'\u001b[39m] \u001b[38;5;241m=\u001b[39m pd\u001b[38;5;241m.\u001b[39mto_datetime(df[\u001b[38;5;124m'\u001b[39m\u001b[38;5;124mdatum_narození\u001b[39m\u001b[38;5;124m'\u001b[39m])\n",
      "File \u001b[1;32m~\\anaconda3\\Lib\\site-packages\\pandas\\core\\tools\\datetimes.py:1067\u001b[0m, in \u001b[0;36mto_datetime\u001b[1;34m(arg, errors, dayfirst, yearfirst, utc, format, exact, unit, infer_datetime_format, origin, cache)\u001b[0m\n\u001b[0;32m   1065\u001b[0m         result \u001b[38;5;241m=\u001b[39m arg\u001b[38;5;241m.\u001b[39mmap(cache_array)\n\u001b[0;32m   1066\u001b[0m     \u001b[38;5;28;01melse\u001b[39;00m:\n\u001b[1;32m-> 1067\u001b[0m         values \u001b[38;5;241m=\u001b[39m convert_listlike(arg\u001b[38;5;241m.\u001b[39m_values, \u001b[38;5;28mformat\u001b[39m)\n\u001b[0;32m   1068\u001b[0m         result \u001b[38;5;241m=\u001b[39m arg\u001b[38;5;241m.\u001b[39m_constructor(values, index\u001b[38;5;241m=\u001b[39marg\u001b[38;5;241m.\u001b[39mindex, name\u001b[38;5;241m=\u001b[39marg\u001b[38;5;241m.\u001b[39mname)\n\u001b[0;32m   1069\u001b[0m \u001b[38;5;28;01melif\u001b[39;00m \u001b[38;5;28misinstance\u001b[39m(arg, (ABCDataFrame, abc\u001b[38;5;241m.\u001b[39mMutableMapping)):\n",
      "File \u001b[1;32m~\\anaconda3\\Lib\\site-packages\\pandas\\core\\tools\\datetimes.py:433\u001b[0m, in \u001b[0;36m_convert_listlike_datetimes\u001b[1;34m(arg, format, name, utc, unit, errors, dayfirst, yearfirst, exact)\u001b[0m\n\u001b[0;32m    431\u001b[0m \u001b[38;5;66;03m# `format` could be inferred, or user didn't ask for mixed-format parsing.\u001b[39;00m\n\u001b[0;32m    432\u001b[0m \u001b[38;5;28;01mif\u001b[39;00m \u001b[38;5;28mformat\u001b[39m \u001b[38;5;129;01mis\u001b[39;00m \u001b[38;5;129;01mnot\u001b[39;00m \u001b[38;5;28;01mNone\u001b[39;00m \u001b[38;5;129;01mand\u001b[39;00m \u001b[38;5;28mformat\u001b[39m \u001b[38;5;241m!=\u001b[39m \u001b[38;5;124m\"\u001b[39m\u001b[38;5;124mmixed\u001b[39m\u001b[38;5;124m\"\u001b[39m:\n\u001b[1;32m--> 433\u001b[0m     \u001b[38;5;28;01mreturn\u001b[39;00m _array_strptime_with_fallback(arg, name, utc, \u001b[38;5;28mformat\u001b[39m, exact, errors)\n\u001b[0;32m    435\u001b[0m result, tz_parsed \u001b[38;5;241m=\u001b[39m objects_to_datetime64(\n\u001b[0;32m    436\u001b[0m     arg,\n\u001b[0;32m    437\u001b[0m     dayfirst\u001b[38;5;241m=\u001b[39mdayfirst,\n\u001b[1;32m   (...)\u001b[0m\n\u001b[0;32m    441\u001b[0m     allow_object\u001b[38;5;241m=\u001b[39m\u001b[38;5;28;01mTrue\u001b[39;00m,\n\u001b[0;32m    442\u001b[0m )\n\u001b[0;32m    444\u001b[0m \u001b[38;5;28;01mif\u001b[39;00m tz_parsed \u001b[38;5;129;01mis\u001b[39;00m \u001b[38;5;129;01mnot\u001b[39;00m \u001b[38;5;28;01mNone\u001b[39;00m:\n\u001b[0;32m    445\u001b[0m     \u001b[38;5;66;03m# We can take a shortcut since the datetime64 numpy array\u001b[39;00m\n\u001b[0;32m    446\u001b[0m     \u001b[38;5;66;03m# is in UTC\u001b[39;00m\n",
      "File \u001b[1;32m~\\anaconda3\\Lib\\site-packages\\pandas\\core\\tools\\datetimes.py:467\u001b[0m, in \u001b[0;36m_array_strptime_with_fallback\u001b[1;34m(arg, name, utc, fmt, exact, errors)\u001b[0m\n\u001b[0;32m    456\u001b[0m \u001b[38;5;28;01mdef\u001b[39;00m \u001b[38;5;21m_array_strptime_with_fallback\u001b[39m(\n\u001b[0;32m    457\u001b[0m     arg,\n\u001b[0;32m    458\u001b[0m     name,\n\u001b[1;32m   (...)\u001b[0m\n\u001b[0;32m    462\u001b[0m     errors: \u001b[38;5;28mstr\u001b[39m,\n\u001b[0;32m    463\u001b[0m ) \u001b[38;5;241m-\u001b[39m\u001b[38;5;241m>\u001b[39m Index:\n\u001b[0;32m    464\u001b[0m \u001b[38;5;250m    \u001b[39m\u001b[38;5;124;03m\"\"\"\u001b[39;00m\n\u001b[0;32m    465\u001b[0m \u001b[38;5;124;03m    Call array_strptime, with fallback behavior depending on 'errors'.\u001b[39;00m\n\u001b[0;32m    466\u001b[0m \u001b[38;5;124;03m    \"\"\"\u001b[39;00m\n\u001b[1;32m--> 467\u001b[0m     result, tz_out \u001b[38;5;241m=\u001b[39m array_strptime(arg, fmt, exact\u001b[38;5;241m=\u001b[39mexact, errors\u001b[38;5;241m=\u001b[39merrors, utc\u001b[38;5;241m=\u001b[39mutc)\n\u001b[0;32m    468\u001b[0m     \u001b[38;5;28;01mif\u001b[39;00m tz_out \u001b[38;5;129;01mis\u001b[39;00m \u001b[38;5;129;01mnot\u001b[39;00m \u001b[38;5;28;01mNone\u001b[39;00m:\n\u001b[0;32m    469\u001b[0m         unit \u001b[38;5;241m=\u001b[39m np\u001b[38;5;241m.\u001b[39mdatetime_data(result\u001b[38;5;241m.\u001b[39mdtype)[\u001b[38;5;241m0\u001b[39m]\n",
      "File \u001b[1;32mstrptime.pyx:501\u001b[0m, in \u001b[0;36mpandas._libs.tslibs.strptime.array_strptime\u001b[1;34m()\u001b[0m\n",
      "File \u001b[1;32mstrptime.pyx:451\u001b[0m, in \u001b[0;36mpandas._libs.tslibs.strptime.array_strptime\u001b[1;34m()\u001b[0m\n",
      "File \u001b[1;32mstrptime.pyx:583\u001b[0m, in \u001b[0;36mpandas._libs.tslibs.strptime._parse_with_format\u001b[1;34m()\u001b[0m\n",
      "\u001b[1;31mValueError\u001b[0m: time data \"jaro 1986\" doesn't match format \"%Y-%m-%d\", at position 2. You might want to try:\n    - passing `format` if your strings have a consistent format;\n    - passing `format='ISO8601'` if your strings are all ISO8601 but not necessarily in exactly the same format;\n    - passing `format='mixed'`, and the format will be inferred for each element individually. You might want to use `dayfirst` alongside this."
     ]
    }
   ],
   "source": [
    "df['datum_narození_čisté'] = pd.to_datetime(df['datum_narození'])"
   ]
  },
  {
   "cell_type": "markdown",
   "id": "8d5f72a8-41eb-4c9b-a560-f04ec67a8177",
   "metadata": {},
   "source": [
    "No jo, ale pandas neví, co je to jaro. Chudák pandas.\n",
    "\n",
    "Musíme tedy metodu upozornit na to, že je formát dat smíšený a že má v případě chyby data zahodit a pokračovat dál:"
   ]
  },
  {
   "cell_type": "code",
   "execution_count": 378,
   "id": "9d5657f1-4bf1-4b8a-b2ef-0d476ae647e9",
   "metadata": {},
   "outputs": [],
   "source": [
    "df['datum_narození_čisté'] = pd.to_datetime(df['datum_narození'], format=\"mixed\", errors=\"coerce\")"
   ]
  },
  {
   "cell_type": "code",
   "execution_count": 380,
   "id": "0dc3ad5a-aa75-4cf6-97f7-4b09f36dd0bb",
   "metadata": {},
   "outputs": [
    {
     "data": {
      "text/html": [
       "<div>\n",
       "<style scoped>\n",
       "    .dataframe tbody tr th:only-of-type {\n",
       "        vertical-align: middle;\n",
       "    }\n",
       "\n",
       "    .dataframe tbody tr th {\n",
       "        vertical-align: top;\n",
       "    }\n",
       "\n",
       "    .dataframe thead th {\n",
       "        text-align: right;\n",
       "    }\n",
       "</style>\n",
       "<table border=\"1\" class=\"dataframe\">\n",
       "  <thead>\n",
       "    <tr style=\"text-align: right;\">\n",
       "      <th></th>\n",
       "      <th>jméno</th>\n",
       "      <th>datum_narození</th>\n",
       "      <th>místo_narození</th>\n",
       "      <th>plat</th>\n",
       "      <th>místo_narození_čisté</th>\n",
       "      <th>rok_narození</th>\n",
       "      <th>datum_narození_čisté</th>\n",
       "    </tr>\n",
       "  </thead>\n",
       "  <tbody>\n",
       "    <tr>\n",
       "      <th>0</th>\n",
       "      <td>Albína</td>\n",
       "      <td>1984-07-30</td>\n",
       "      <td>Brno</td>\n",
       "      <td>45,000</td>\n",
       "      <td>Brno</td>\n",
       "      <td>1984</td>\n",
       "      <td>1984-07-30</td>\n",
       "    </tr>\n",
       "    <tr>\n",
       "      <th>1</th>\n",
       "      <td>Bedřich</td>\n",
       "      <td>1987-06-15</td>\n",
       "      <td>Brno-Královo Pole</td>\n",
       "      <td>43000</td>\n",
       "      <td>Brno</td>\n",
       "      <td>1987</td>\n",
       "      <td>1987-06-15</td>\n",
       "    </tr>\n",
       "    <tr>\n",
       "      <th>2</th>\n",
       "      <td>Cecílie</td>\n",
       "      <td>jaro 1986</td>\n",
       "      <td>Blansko</td>\n",
       "      <td>45000-48000 (podle měsíce)</td>\n",
       "      <td>Blansko</td>\n",
       "      <td>1986</td>\n",
       "      <td>NaT</td>\n",
       "    </tr>\n",
       "    <tr>\n",
       "      <th>3</th>\n",
       "      <td>Dobromila</td>\n",
       "      <td>1994-12-01</td>\n",
       "      <td>Brno</td>\n",
       "      <td>39000</td>\n",
       "      <td>Brno</td>\n",
       "      <td>1994</td>\n",
       "      <td>1994-12-01</td>\n",
       "    </tr>\n",
       "    <tr>\n",
       "      <th>4</th>\n",
       "      <td>Emanuel</td>\n",
       "      <td>1988-01-21</td>\n",
       "      <td>Blansko</td>\n",
       "      <td>3900</td>\n",
       "      <td>Blansko</td>\n",
       "      <td>1988</td>\n",
       "      <td>1988-01-21</td>\n",
       "    </tr>\n",
       "  </tbody>\n",
       "</table>\n",
       "</div>"
      ],
      "text/plain": [
       "       jméno datum_narození     místo_narození                        plat  \\\n",
       "0     Albína     1984-07-30               Brno                      45,000   \n",
       "1    Bedřich     1987-06-15  Brno-Královo Pole                       43000   \n",
       "2    Cecílie      jaro 1986            Blansko  45000-48000 (podle měsíce)   \n",
       "3  Dobromila     1994-12-01               Brno                       39000   \n",
       "4    Emanuel     1988-01-21            Blansko                        3900   \n",
       "\n",
       "  místo_narození_čisté rok_narození datum_narození_čisté  \n",
       "0                 Brno         1984           1984-07-30  \n",
       "1                 Brno         1987           1987-06-15  \n",
       "2              Blansko         1986                  NaT  \n",
       "3                 Brno         1994           1994-12-01  \n",
       "4              Blansko         1988           1988-01-21  "
      ]
     },
     "execution_count": 380,
     "metadata": {},
     "output_type": "execute_result"
    }
   ],
   "source": [
    "df"
   ]
  },
  {
   "cell_type": "markdown",
   "id": "8418daa0-83e0-4876-978a-7dccc0344585",
   "metadata": {},
   "source": [
    "Tady jsme bohužel přišli o celou informaci v chybném řádku. Někdy můžeme pro další výpočty doplnit vymyšlené datum, někdy si tím koledujeme o průšvih – jsme velcí a musíme se rozhodnout sami. Zde tedy prázdné údaje vyplníme údaji ze sloupce rok_narození."
   ]
  },
  {
   "cell_type": "code",
   "execution_count": 382,
   "id": "94d98a5e-dac7-44db-8a64-9d5c8560547e",
   "metadata": {},
   "outputs": [],
   "source": [
    "df['datum_narození_čisté'] = df['datum_narození_čisté'].fillna(df['rok_narození'])"
   ]
  },
  {
   "cell_type": "code",
   "execution_count": 384,
   "id": "f109f491-f009-4e11-8169-0506c83cf725",
   "metadata": {},
   "outputs": [
    {
     "data": {
      "text/html": [
       "<div>\n",
       "<style scoped>\n",
       "    .dataframe tbody tr th:only-of-type {\n",
       "        vertical-align: middle;\n",
       "    }\n",
       "\n",
       "    .dataframe tbody tr th {\n",
       "        vertical-align: top;\n",
       "    }\n",
       "\n",
       "    .dataframe thead th {\n",
       "        text-align: right;\n",
       "    }\n",
       "</style>\n",
       "<table border=\"1\" class=\"dataframe\">\n",
       "  <thead>\n",
       "    <tr style=\"text-align: right;\">\n",
       "      <th></th>\n",
       "      <th>jméno</th>\n",
       "      <th>datum_narození</th>\n",
       "      <th>místo_narození</th>\n",
       "      <th>plat</th>\n",
       "      <th>místo_narození_čisté</th>\n",
       "      <th>rok_narození</th>\n",
       "      <th>datum_narození_čisté</th>\n",
       "    </tr>\n",
       "  </thead>\n",
       "  <tbody>\n",
       "    <tr>\n",
       "      <th>0</th>\n",
       "      <td>Albína</td>\n",
       "      <td>1984-07-30</td>\n",
       "      <td>Brno</td>\n",
       "      <td>45,000</td>\n",
       "      <td>Brno</td>\n",
       "      <td>1984</td>\n",
       "      <td>1984-07-30</td>\n",
       "    </tr>\n",
       "    <tr>\n",
       "      <th>1</th>\n",
       "      <td>Bedřich</td>\n",
       "      <td>1987-06-15</td>\n",
       "      <td>Brno-Královo Pole</td>\n",
       "      <td>43000</td>\n",
       "      <td>Brno</td>\n",
       "      <td>1987</td>\n",
       "      <td>1987-06-15</td>\n",
       "    </tr>\n",
       "    <tr>\n",
       "      <th>2</th>\n",
       "      <td>Cecílie</td>\n",
       "      <td>jaro 1986</td>\n",
       "      <td>Blansko</td>\n",
       "      <td>45000-48000 (podle měsíce)</td>\n",
       "      <td>Blansko</td>\n",
       "      <td>1986</td>\n",
       "      <td>1986-01-01</td>\n",
       "    </tr>\n",
       "    <tr>\n",
       "      <th>3</th>\n",
       "      <td>Dobromila</td>\n",
       "      <td>1994-12-01</td>\n",
       "      <td>Brno</td>\n",
       "      <td>39000</td>\n",
       "      <td>Brno</td>\n",
       "      <td>1994</td>\n",
       "      <td>1994-12-01</td>\n",
       "    </tr>\n",
       "    <tr>\n",
       "      <th>4</th>\n",
       "      <td>Emanuel</td>\n",
       "      <td>1988-01-21</td>\n",
       "      <td>Blansko</td>\n",
       "      <td>3900</td>\n",
       "      <td>Blansko</td>\n",
       "      <td>1988</td>\n",
       "      <td>1988-01-21</td>\n",
       "    </tr>\n",
       "  </tbody>\n",
       "</table>\n",
       "</div>"
      ],
      "text/plain": [
       "       jméno datum_narození     místo_narození                        plat  \\\n",
       "0     Albína     1984-07-30               Brno                      45,000   \n",
       "1    Bedřich     1987-06-15  Brno-Královo Pole                       43000   \n",
       "2    Cecílie      jaro 1986            Blansko  45000-48000 (podle měsíce)   \n",
       "3  Dobromila     1994-12-01               Brno                       39000   \n",
       "4    Emanuel     1988-01-21            Blansko                        3900   \n",
       "\n",
       "  místo_narození_čisté rok_narození datum_narození_čisté  \n",
       "0                 Brno         1984           1984-07-30  \n",
       "1                 Brno         1987           1987-06-15  \n",
       "2              Blansko         1986           1986-01-01  \n",
       "3                 Brno         1994           1994-12-01  \n",
       "4              Blansko         1988           1988-01-21  "
      ]
     },
     "execution_count": 384,
     "metadata": {},
     "output_type": "execute_result"
    }
   ],
   "source": [
    "df"
   ]
  },
  {
   "cell_type": "markdown",
   "id": "562ada55-3581-44f7-b802-82e47dbd1512",
   "metadata": {},
   "source": [
    "Protože si pandas už pamatuje, že má s celým sloupcem datum_narození_čisté pracovat jako s objektem datetime, rovnou jsme k roku dostali doplněný 1. leden."
   ]
  },
  {
   "cell_type": "markdown",
   "id": "4884c08e-dff8-410b-80ae-749a11c39b65",
   "metadata": {},
   "source": [
    "Půjde nám spočítat průměrný plat?"
   ]
  },
  {
   "cell_type": "code",
   "execution_count": 386,
   "id": "afe1642d-3ac5-4d32-9fa4-f89b14334632",
   "metadata": {},
   "outputs": [
    {
     "ename": "TypeError",
     "evalue": "Could not convert string '45,0004300045000-48000 (podle měsíce)390003900' to numeric",
     "output_type": "error",
     "traceback": [
      "\u001b[1;31m---------------------------------------------------------------------------\u001b[0m",
      "\u001b[1;31mTypeError\u001b[0m                                 Traceback (most recent call last)",
      "Cell \u001b[1;32mIn[386], line 1\u001b[0m\n\u001b[1;32m----> 1\u001b[0m df[\u001b[38;5;124m'\u001b[39m\u001b[38;5;124mplat\u001b[39m\u001b[38;5;124m'\u001b[39m]\u001b[38;5;241m.\u001b[39mmean()\n",
      "File \u001b[1;32m~\\anaconda3\\Lib\\site-packages\\pandas\\core\\series.py:6549\u001b[0m, in \u001b[0;36mSeries.mean\u001b[1;34m(self, axis, skipna, numeric_only, **kwargs)\u001b[0m\n\u001b[0;32m   6541\u001b[0m \u001b[38;5;129m@doc\u001b[39m(make_doc(\u001b[38;5;124m\"\u001b[39m\u001b[38;5;124mmean\u001b[39m\u001b[38;5;124m\"\u001b[39m, ndim\u001b[38;5;241m=\u001b[39m\u001b[38;5;241m1\u001b[39m))\n\u001b[0;32m   6542\u001b[0m \u001b[38;5;28;01mdef\u001b[39;00m \u001b[38;5;21mmean\u001b[39m(\n\u001b[0;32m   6543\u001b[0m     \u001b[38;5;28mself\u001b[39m,\n\u001b[1;32m   (...)\u001b[0m\n\u001b[0;32m   6547\u001b[0m     \u001b[38;5;241m*\u001b[39m\u001b[38;5;241m*\u001b[39mkwargs,\n\u001b[0;32m   6548\u001b[0m ):\n\u001b[1;32m-> 6549\u001b[0m     \u001b[38;5;28;01mreturn\u001b[39;00m NDFrame\u001b[38;5;241m.\u001b[39mmean(\u001b[38;5;28mself\u001b[39m, axis, skipna, numeric_only, \u001b[38;5;241m*\u001b[39m\u001b[38;5;241m*\u001b[39mkwargs)\n",
      "File \u001b[1;32m~\\anaconda3\\Lib\\site-packages\\pandas\\core\\generic.py:12420\u001b[0m, in \u001b[0;36mNDFrame.mean\u001b[1;34m(self, axis, skipna, numeric_only, **kwargs)\u001b[0m\n\u001b[0;32m  12413\u001b[0m \u001b[38;5;28;01mdef\u001b[39;00m \u001b[38;5;21mmean\u001b[39m(\n\u001b[0;32m  12414\u001b[0m     \u001b[38;5;28mself\u001b[39m,\n\u001b[0;32m  12415\u001b[0m     axis: Axis \u001b[38;5;241m|\u001b[39m \u001b[38;5;28;01mNone\u001b[39;00m \u001b[38;5;241m=\u001b[39m \u001b[38;5;241m0\u001b[39m,\n\u001b[1;32m   (...)\u001b[0m\n\u001b[0;32m  12418\u001b[0m     \u001b[38;5;241m*\u001b[39m\u001b[38;5;241m*\u001b[39mkwargs,\n\u001b[0;32m  12419\u001b[0m ) \u001b[38;5;241m-\u001b[39m\u001b[38;5;241m>\u001b[39m Series \u001b[38;5;241m|\u001b[39m \u001b[38;5;28mfloat\u001b[39m:\n\u001b[1;32m> 12420\u001b[0m     \u001b[38;5;28;01mreturn\u001b[39;00m \u001b[38;5;28mself\u001b[39m\u001b[38;5;241m.\u001b[39m_stat_function(\n\u001b[0;32m  12421\u001b[0m         \u001b[38;5;124m\"\u001b[39m\u001b[38;5;124mmean\u001b[39m\u001b[38;5;124m\"\u001b[39m, nanops\u001b[38;5;241m.\u001b[39mnanmean, axis, skipna, numeric_only, \u001b[38;5;241m*\u001b[39m\u001b[38;5;241m*\u001b[39mkwargs\n\u001b[0;32m  12422\u001b[0m     )\n",
      "File \u001b[1;32m~\\anaconda3\\Lib\\site-packages\\pandas\\core\\generic.py:12377\u001b[0m, in \u001b[0;36mNDFrame._stat_function\u001b[1;34m(self, name, func, axis, skipna, numeric_only, **kwargs)\u001b[0m\n\u001b[0;32m  12373\u001b[0m nv\u001b[38;5;241m.\u001b[39mvalidate_func(name, (), kwargs)\n\u001b[0;32m  12375\u001b[0m validate_bool_kwarg(skipna, \u001b[38;5;124m\"\u001b[39m\u001b[38;5;124mskipna\u001b[39m\u001b[38;5;124m\"\u001b[39m, none_allowed\u001b[38;5;241m=\u001b[39m\u001b[38;5;28;01mFalse\u001b[39;00m)\n\u001b[1;32m> 12377\u001b[0m \u001b[38;5;28;01mreturn\u001b[39;00m \u001b[38;5;28mself\u001b[39m\u001b[38;5;241m.\u001b[39m_reduce(\n\u001b[0;32m  12378\u001b[0m     func, name\u001b[38;5;241m=\u001b[39mname, axis\u001b[38;5;241m=\u001b[39maxis, skipna\u001b[38;5;241m=\u001b[39mskipna, numeric_only\u001b[38;5;241m=\u001b[39mnumeric_only\n\u001b[0;32m  12379\u001b[0m )\n",
      "File \u001b[1;32m~\\anaconda3\\Lib\\site-packages\\pandas\\core\\series.py:6457\u001b[0m, in \u001b[0;36mSeries._reduce\u001b[1;34m(self, op, name, axis, skipna, numeric_only, filter_type, **kwds)\u001b[0m\n\u001b[0;32m   6452\u001b[0m     \u001b[38;5;66;03m# GH#47500 - change to TypeError to match other methods\u001b[39;00m\n\u001b[0;32m   6453\u001b[0m     \u001b[38;5;28;01mraise\u001b[39;00m \u001b[38;5;167;01mTypeError\u001b[39;00m(\n\u001b[0;32m   6454\u001b[0m         \u001b[38;5;124mf\u001b[39m\u001b[38;5;124m\"\u001b[39m\u001b[38;5;124mSeries.\u001b[39m\u001b[38;5;132;01m{\u001b[39;00mname\u001b[38;5;132;01m}\u001b[39;00m\u001b[38;5;124m does not allow \u001b[39m\u001b[38;5;132;01m{\u001b[39;00mkwd_name\u001b[38;5;132;01m}\u001b[39;00m\u001b[38;5;124m=\u001b[39m\u001b[38;5;132;01m{\u001b[39;00mnumeric_only\u001b[38;5;132;01m}\u001b[39;00m\u001b[38;5;124m \u001b[39m\u001b[38;5;124m\"\u001b[39m\n\u001b[0;32m   6455\u001b[0m         \u001b[38;5;124m\"\u001b[39m\u001b[38;5;124mwith non-numeric dtypes.\u001b[39m\u001b[38;5;124m\"\u001b[39m\n\u001b[0;32m   6456\u001b[0m     )\n\u001b[1;32m-> 6457\u001b[0m \u001b[38;5;28;01mreturn\u001b[39;00m op(delegate, skipna\u001b[38;5;241m=\u001b[39mskipna, \u001b[38;5;241m*\u001b[39m\u001b[38;5;241m*\u001b[39mkwds)\n",
      "File \u001b[1;32m~\\anaconda3\\Lib\\site-packages\\pandas\\core\\nanops.py:147\u001b[0m, in \u001b[0;36mbottleneck_switch.__call__.<locals>.f\u001b[1;34m(values, axis, skipna, **kwds)\u001b[0m\n\u001b[0;32m    145\u001b[0m         result \u001b[38;5;241m=\u001b[39m alt(values, axis\u001b[38;5;241m=\u001b[39maxis, skipna\u001b[38;5;241m=\u001b[39mskipna, \u001b[38;5;241m*\u001b[39m\u001b[38;5;241m*\u001b[39mkwds)\n\u001b[0;32m    146\u001b[0m \u001b[38;5;28;01melse\u001b[39;00m:\n\u001b[1;32m--> 147\u001b[0m     result \u001b[38;5;241m=\u001b[39m alt(values, axis\u001b[38;5;241m=\u001b[39maxis, skipna\u001b[38;5;241m=\u001b[39mskipna, \u001b[38;5;241m*\u001b[39m\u001b[38;5;241m*\u001b[39mkwds)\n\u001b[0;32m    149\u001b[0m \u001b[38;5;28;01mreturn\u001b[39;00m result\n",
      "File \u001b[1;32m~\\anaconda3\\Lib\\site-packages\\pandas\\core\\nanops.py:404\u001b[0m, in \u001b[0;36m_datetimelike_compat.<locals>.new_func\u001b[1;34m(values, axis, skipna, mask, **kwargs)\u001b[0m\n\u001b[0;32m    401\u001b[0m \u001b[38;5;28;01mif\u001b[39;00m datetimelike \u001b[38;5;129;01mand\u001b[39;00m mask \u001b[38;5;129;01mis\u001b[39;00m \u001b[38;5;28;01mNone\u001b[39;00m:\n\u001b[0;32m    402\u001b[0m     mask \u001b[38;5;241m=\u001b[39m isna(values)\n\u001b[1;32m--> 404\u001b[0m result \u001b[38;5;241m=\u001b[39m func(values, axis\u001b[38;5;241m=\u001b[39maxis, skipna\u001b[38;5;241m=\u001b[39mskipna, mask\u001b[38;5;241m=\u001b[39mmask, \u001b[38;5;241m*\u001b[39m\u001b[38;5;241m*\u001b[39mkwargs)\n\u001b[0;32m    406\u001b[0m \u001b[38;5;28;01mif\u001b[39;00m datetimelike:\n\u001b[0;32m    407\u001b[0m     result \u001b[38;5;241m=\u001b[39m _wrap_results(result, orig_values\u001b[38;5;241m.\u001b[39mdtype, fill_value\u001b[38;5;241m=\u001b[39miNaT)\n",
      "File \u001b[1;32m~\\anaconda3\\Lib\\site-packages\\pandas\\core\\nanops.py:720\u001b[0m, in \u001b[0;36mnanmean\u001b[1;34m(values, axis, skipna, mask)\u001b[0m\n\u001b[0;32m    718\u001b[0m count \u001b[38;5;241m=\u001b[39m _get_counts(values\u001b[38;5;241m.\u001b[39mshape, mask, axis, dtype\u001b[38;5;241m=\u001b[39mdtype_count)\n\u001b[0;32m    719\u001b[0m the_sum \u001b[38;5;241m=\u001b[39m values\u001b[38;5;241m.\u001b[39msum(axis, dtype\u001b[38;5;241m=\u001b[39mdtype_sum)\n\u001b[1;32m--> 720\u001b[0m the_sum \u001b[38;5;241m=\u001b[39m _ensure_numeric(the_sum)\n\u001b[0;32m    722\u001b[0m \u001b[38;5;28;01mif\u001b[39;00m axis \u001b[38;5;129;01mis\u001b[39;00m \u001b[38;5;129;01mnot\u001b[39;00m \u001b[38;5;28;01mNone\u001b[39;00m \u001b[38;5;129;01mand\u001b[39;00m \u001b[38;5;28mgetattr\u001b[39m(the_sum, \u001b[38;5;124m\"\u001b[39m\u001b[38;5;124mndim\u001b[39m\u001b[38;5;124m\"\u001b[39m, \u001b[38;5;28;01mFalse\u001b[39;00m):\n\u001b[0;32m    723\u001b[0m     count \u001b[38;5;241m=\u001b[39m cast(np\u001b[38;5;241m.\u001b[39mndarray, count)\n",
      "File \u001b[1;32m~\\anaconda3\\Lib\\site-packages\\pandas\\core\\nanops.py:1701\u001b[0m, in \u001b[0;36m_ensure_numeric\u001b[1;34m(x)\u001b[0m\n\u001b[0;32m   1698\u001b[0m \u001b[38;5;28;01melif\u001b[39;00m \u001b[38;5;129;01mnot\u001b[39;00m (is_float(x) \u001b[38;5;129;01mor\u001b[39;00m is_integer(x) \u001b[38;5;129;01mor\u001b[39;00m is_complex(x)):\n\u001b[0;32m   1699\u001b[0m     \u001b[38;5;28;01mif\u001b[39;00m \u001b[38;5;28misinstance\u001b[39m(x, \u001b[38;5;28mstr\u001b[39m):\n\u001b[0;32m   1700\u001b[0m         \u001b[38;5;66;03m# GH#44008, GH#36703 avoid casting e.g. strings to numeric\u001b[39;00m\n\u001b[1;32m-> 1701\u001b[0m         \u001b[38;5;28;01mraise\u001b[39;00m \u001b[38;5;167;01mTypeError\u001b[39;00m(\u001b[38;5;124mf\u001b[39m\u001b[38;5;124m\"\u001b[39m\u001b[38;5;124mCould not convert string \u001b[39m\u001b[38;5;124m'\u001b[39m\u001b[38;5;132;01m{\u001b[39;00mx\u001b[38;5;132;01m}\u001b[39;00m\u001b[38;5;124m'\u001b[39m\u001b[38;5;124m to numeric\u001b[39m\u001b[38;5;124m\"\u001b[39m)\n\u001b[0;32m   1702\u001b[0m     \u001b[38;5;28;01mtry\u001b[39;00m:\n\u001b[0;32m   1703\u001b[0m         x \u001b[38;5;241m=\u001b[39m \u001b[38;5;28mfloat\u001b[39m(x)\n",
      "\u001b[1;31mTypeError\u001b[0m: Could not convert string '45,0004300045000-48000 (podle měsíce)390003900' to numeric"
     ]
    }
   ],
   "source": [
    "df['plat'].mean()"
   ]
  },
  {
   "cell_type": "markdown",
   "id": "4a55c425-48b8-4586-bea0-4499161b3e87",
   "metadata": {},
   "source": [
    "Nepůjde. Narazili jsme na \"TypeError\", asi nejčastější problém s nepročištěnými daty: pandas u některých polí neví, jak je interpretovat, jestli jako číslo, nebo jako textový řetězec. Zkusíme základní příkaz pro převod na číselný formát:"
   ]
  },
  {
   "cell_type": "code",
   "execution_count": 388,
   "id": "d7221ab4-33a8-4b85-953d-fdf52ce9db77",
   "metadata": {},
   "outputs": [
    {
     "ename": "ValueError",
     "evalue": "Unable to parse string \"45,000\" at position 0",
     "output_type": "error",
     "traceback": [
      "\u001b[1;31m---------------------------------------------------------------------------\u001b[0m",
      "\u001b[1;31mValueError\u001b[0m                                Traceback (most recent call last)",
      "File \u001b[1;32mlib.pyx:2391\u001b[0m, in \u001b[0;36mpandas._libs.lib.maybe_convert_numeric\u001b[1;34m()\u001b[0m\n",
      "\u001b[1;31mValueError\u001b[0m: Unable to parse string \"45,000\"",
      "\nDuring handling of the above exception, another exception occurred:\n",
      "\u001b[1;31mValueError\u001b[0m                                Traceback (most recent call last)",
      "Cell \u001b[1;32mIn[388], line 1\u001b[0m\n\u001b[1;32m----> 1\u001b[0m df[\u001b[38;5;124m'\u001b[39m\u001b[38;5;124mplat\u001b[39m\u001b[38;5;124m'\u001b[39m] \u001b[38;5;241m=\u001b[39m pd\u001b[38;5;241m.\u001b[39mto_numeric(df[\u001b[38;5;124m'\u001b[39m\u001b[38;5;124mplat\u001b[39m\u001b[38;5;124m'\u001b[39m])\n",
      "File \u001b[1;32m~\\anaconda3\\Lib\\site-packages\\pandas\\core\\tools\\numeric.py:232\u001b[0m, in \u001b[0;36mto_numeric\u001b[1;34m(arg, errors, downcast, dtype_backend)\u001b[0m\n\u001b[0;32m    230\u001b[0m coerce_numeric \u001b[38;5;241m=\u001b[39m errors \u001b[38;5;129;01mnot\u001b[39;00m \u001b[38;5;129;01min\u001b[39;00m (\u001b[38;5;124m\"\u001b[39m\u001b[38;5;124mignore\u001b[39m\u001b[38;5;124m\"\u001b[39m, \u001b[38;5;124m\"\u001b[39m\u001b[38;5;124mraise\u001b[39m\u001b[38;5;124m\"\u001b[39m)\n\u001b[0;32m    231\u001b[0m \u001b[38;5;28;01mtry\u001b[39;00m:\n\u001b[1;32m--> 232\u001b[0m     values, new_mask \u001b[38;5;241m=\u001b[39m lib\u001b[38;5;241m.\u001b[39mmaybe_convert_numeric(  \u001b[38;5;66;03m# type: ignore[call-overload]\u001b[39;00m\n\u001b[0;32m    233\u001b[0m         values,\n\u001b[0;32m    234\u001b[0m         \u001b[38;5;28mset\u001b[39m(),\n\u001b[0;32m    235\u001b[0m         coerce_numeric\u001b[38;5;241m=\u001b[39mcoerce_numeric,\n\u001b[0;32m    236\u001b[0m         convert_to_masked_nullable\u001b[38;5;241m=\u001b[39mdtype_backend \u001b[38;5;129;01mis\u001b[39;00m \u001b[38;5;129;01mnot\u001b[39;00m lib\u001b[38;5;241m.\u001b[39mno_default\n\u001b[0;32m    237\u001b[0m         \u001b[38;5;129;01mor\u001b[39;00m \u001b[38;5;28misinstance\u001b[39m(values_dtype, StringDtype)\n\u001b[0;32m    238\u001b[0m         \u001b[38;5;129;01mand\u001b[39;00m \u001b[38;5;129;01mnot\u001b[39;00m values_dtype\u001b[38;5;241m.\u001b[39mstorage \u001b[38;5;241m==\u001b[39m \u001b[38;5;124m\"\u001b[39m\u001b[38;5;124mpyarrow_numpy\u001b[39m\u001b[38;5;124m\"\u001b[39m,\n\u001b[0;32m    239\u001b[0m     )\n\u001b[0;32m    240\u001b[0m \u001b[38;5;28;01mexcept\u001b[39;00m (\u001b[38;5;167;01mValueError\u001b[39;00m, \u001b[38;5;167;01mTypeError\u001b[39;00m):\n\u001b[0;32m    241\u001b[0m     \u001b[38;5;28;01mif\u001b[39;00m errors \u001b[38;5;241m==\u001b[39m \u001b[38;5;124m\"\u001b[39m\u001b[38;5;124mraise\u001b[39m\u001b[38;5;124m\"\u001b[39m:\n",
      "File \u001b[1;32mlib.pyx:2433\u001b[0m, in \u001b[0;36mpandas._libs.lib.maybe_convert_numeric\u001b[1;34m()\u001b[0m\n",
      "\u001b[1;31mValueError\u001b[0m: Unable to parse string \"45,000\" at position 0"
     ]
    }
   ],
   "source": [
    "df['plat'] = pd.to_numeric(df['plat'])"
   ]
  },
  {
   "cell_type": "markdown",
   "id": "8c5e98bb-6448-4edc-996d-cf55a9481be6",
   "metadata": {},
   "source": [
    "Stále je to pro pandas příliš složité, zde se zarazilo hned na čárce v prvním řádku. Když si sloupec prohlédneme celý, vidíme tam zjevných oříšků víc. Všechny jdou ale řešit. Musíme si pro to napsat funkci:"
   ]
  },
  {
   "cell_type": "code",
   "execution_count": 390,
   "id": "e0fc47d6-0771-4f52-a8e6-f0fe238bb7db",
   "metadata": {},
   "outputs": [],
   "source": [
    "def hezky_plat(udaj_o_platu):\n",
    "    try: # Nejprve zkusíme vrátit údaj o platu jako celé číslo, to by u 2 ze 4 řádků mělo fungovat\n",
    "        print(f\"Zde převod na celé číslo fungoval bez problémů: {int(udaj_o_platu)}\")\n",
    "        return int(udaj_o_platu) \n",
    "    except Exception as E: # A když nám to vrátí chybu, udělám s tím něco jiného:\n",
    "        if \",\" in str(udaj_o_platu): # Je v poli čárka? Vyhodíme ji.\n",
    "            print(f\"Vyhodili jsme čárku a funguje to: {int(udaj_o_platu.replace(\",\",\"\"))}\")\n",
    "            return int(udaj_o_platu.replace(\",\",\"\"))\n",
    "        elif \"-\" in str(udaj_o_platu): ## Největší oříšek je samozřejmě pole s dvěma platy. Co uděláme: najdeme v tomto poli všechna 5ciferná čísla a necháme si vrátit medián.\n",
    "            peticiferna_cisla = re.findall(r\"\\d{5}\", str(udaj_o_platu))\n",
    "            peticiferna_cisla = [int(c) for c in peticiferna_cisla]\n",
    "            print(f\"Spočítali jsme medián z tohoto seznamu: {peticiferna_cisla}\")\n",
    "            return statistics.median(peticiferna_cisla)"
   ]
  },
  {
   "cell_type": "markdown",
   "id": "54018097-b894-4d91-a719-a4648c286b63",
   "metadata": {},
   "source": [
    "Nejde o úplně ideální kód, navíc by narazil třeba v případě, že by někdo měl 6ciferný plat. Ale jde o malý projekt, do kterého nebudou přitékat nová data, a trápit nás to tedy nemusí.\n",
    "\n",
    "Aplikujeme funkci na sloupec s platem:"
   ]
  },
  {
   "cell_type": "code",
   "execution_count": 392,
   "id": "a4120967-b6f7-4734-a33f-53fa324ca24f",
   "metadata": {},
   "outputs": [
    {
     "name": "stdout",
     "output_type": "stream",
     "text": [
      "Vyhodili jsme čárku a funguje to: 45000\n",
      "Zde převod na celé číslo fungoval bez problémů: 43000\n",
      "Spočítali jsme medián z tohoto seznamu: [45000, 48000]\n",
      "Zde převod na celé číslo fungoval bez problémů: 39000\n",
      "Zde převod na celé číslo fungoval bez problémů: 3900\n"
     ]
    }
   ],
   "source": [
    "df['plat_čistý'] = df['plat'].apply(lambda x: hezky_plat(x))"
   ]
  },
  {
   "cell_type": "markdown",
   "id": "fe39ca56-f3f0-4434-86aa-71a200d9963d",
   "metadata": {},
   "source": [
    "Jak vypadá tabulka teď?"
   ]
  },
  {
   "cell_type": "code",
   "execution_count": 394,
   "id": "82f2d37b-030d-47e2-b06b-2f5bd32c4daf",
   "metadata": {},
   "outputs": [
    {
     "data": {
      "text/html": [
       "<div>\n",
       "<style scoped>\n",
       "    .dataframe tbody tr th:only-of-type {\n",
       "        vertical-align: middle;\n",
       "    }\n",
       "\n",
       "    .dataframe tbody tr th {\n",
       "        vertical-align: top;\n",
       "    }\n",
       "\n",
       "    .dataframe thead th {\n",
       "        text-align: right;\n",
       "    }\n",
       "</style>\n",
       "<table border=\"1\" class=\"dataframe\">\n",
       "  <thead>\n",
       "    <tr style=\"text-align: right;\">\n",
       "      <th></th>\n",
       "      <th>jméno</th>\n",
       "      <th>datum_narození</th>\n",
       "      <th>místo_narození</th>\n",
       "      <th>plat</th>\n",
       "      <th>místo_narození_čisté</th>\n",
       "      <th>rok_narození</th>\n",
       "      <th>datum_narození_čisté</th>\n",
       "      <th>plat_čistý</th>\n",
       "    </tr>\n",
       "  </thead>\n",
       "  <tbody>\n",
       "    <tr>\n",
       "      <th>0</th>\n",
       "      <td>Albína</td>\n",
       "      <td>1984-07-30</td>\n",
       "      <td>Brno</td>\n",
       "      <td>45,000</td>\n",
       "      <td>Brno</td>\n",
       "      <td>1984</td>\n",
       "      <td>1984-07-30</td>\n",
       "      <td>45000.0</td>\n",
       "    </tr>\n",
       "    <tr>\n",
       "      <th>1</th>\n",
       "      <td>Bedřich</td>\n",
       "      <td>1987-06-15</td>\n",
       "      <td>Brno-Královo Pole</td>\n",
       "      <td>43000</td>\n",
       "      <td>Brno</td>\n",
       "      <td>1987</td>\n",
       "      <td>1987-06-15</td>\n",
       "      <td>43000.0</td>\n",
       "    </tr>\n",
       "    <tr>\n",
       "      <th>2</th>\n",
       "      <td>Cecílie</td>\n",
       "      <td>jaro 1986</td>\n",
       "      <td>Blansko</td>\n",
       "      <td>45000-48000 (podle měsíce)</td>\n",
       "      <td>Blansko</td>\n",
       "      <td>1986</td>\n",
       "      <td>1986-01-01</td>\n",
       "      <td>46500.0</td>\n",
       "    </tr>\n",
       "    <tr>\n",
       "      <th>3</th>\n",
       "      <td>Dobromila</td>\n",
       "      <td>1994-12-01</td>\n",
       "      <td>Brno</td>\n",
       "      <td>39000</td>\n",
       "      <td>Brno</td>\n",
       "      <td>1994</td>\n",
       "      <td>1994-12-01</td>\n",
       "      <td>39000.0</td>\n",
       "    </tr>\n",
       "    <tr>\n",
       "      <th>4</th>\n",
       "      <td>Emanuel</td>\n",
       "      <td>1988-01-21</td>\n",
       "      <td>Blansko</td>\n",
       "      <td>3900</td>\n",
       "      <td>Blansko</td>\n",
       "      <td>1988</td>\n",
       "      <td>1988-01-21</td>\n",
       "      <td>3900.0</td>\n",
       "    </tr>\n",
       "  </tbody>\n",
       "</table>\n",
       "</div>"
      ],
      "text/plain": [
       "       jméno datum_narození     místo_narození                        plat  \\\n",
       "0     Albína     1984-07-30               Brno                      45,000   \n",
       "1    Bedřich     1987-06-15  Brno-Královo Pole                       43000   \n",
       "2    Cecílie      jaro 1986            Blansko  45000-48000 (podle měsíce)   \n",
       "3  Dobromila     1994-12-01               Brno                       39000   \n",
       "4    Emanuel     1988-01-21            Blansko                        3900   \n",
       "\n",
       "  místo_narození_čisté rok_narození datum_narození_čisté  plat_čistý  \n",
       "0                 Brno         1984           1984-07-30     45000.0  \n",
       "1                 Brno         1987           1987-06-15     43000.0  \n",
       "2              Blansko         1986           1986-01-01     46500.0  \n",
       "3                 Brno         1994           1994-12-01     39000.0  \n",
       "4              Blansko         1988           1988-01-21      3900.0  "
      ]
     },
     "execution_count": 394,
     "metadata": {},
     "output_type": "execute_result"
    }
   ],
   "source": [
    "df"
   ]
  },
  {
   "cell_type": "markdown",
   "id": "4946a1bd-194d-42ae-81b1-eae5f6fdd5aa",
   "metadata": {},
   "source": [
    "Už můžeme spočítat průměr:"
   ]
  },
  {
   "cell_type": "code",
   "execution_count": 396,
   "id": "f07cfceb-1668-46e0-b06f-da4c7d4d002c",
   "metadata": {},
   "outputs": [
    {
     "data": {
      "text/plain": [
       "35480.0"
      ]
     },
     "execution_count": 396,
     "metadata": {},
     "output_type": "execute_result"
    }
   ],
   "source": [
    "df['plat_čistý'].mean()"
   ]
  },
  {
   "cell_type": "markdown",
   "id": "a458bdfa-6151-462d-89d7-3fcdd4849086",
   "metadata": {},
   "source": [
    "Protože jsme mega pečliví, ještě si vyjedeme graf, na kterém bychom si mohli všimnout podivností:"
   ]
  },
  {
   "cell_type": "code",
   "execution_count": 401,
   "id": "74c16d24-e739-4a42-923f-7d906709675d",
   "metadata": {},
   "outputs": [
    {
     "data": {
      "text/plain": [
       "<Axes: ylabel='Frequency'>"
      ]
     },
     "execution_count": 401,
     "metadata": {},
     "output_type": "execute_result"
    },
    {
     "data": {
      "image/png": "[encoded data removed]",
      "text/plain": [
       "<Figure size 640x480 with 1 Axes>"
      ]
     },
     "metadata": {},
     "output_type": "display_data"
    }
   ],
   "source": [
    "df['plat_čistý'].plot.hist(bins=10)"
   ]
  },
  {
   "cell_type": "markdown",
   "id": "aacf6a51-5ff0-4eaa-9906-9aa962f4ebf7",
   "metadata": {},
   "source": [
    "To je ale zvláštní, někdo tu má fakt hodně malé peníze."
   ]
  },
  {
   "cell_type": "code",
   "execution_count": 406,
   "id": "2bd0a45f-2e14-431c-8663-ba88d0b703ec",
   "metadata": {},
   "outputs": [
    {
     "data": {
      "text/html": [
       "<div>\n",
       "<style scoped>\n",
       "    .dataframe tbody tr th:only-of-type {\n",
       "        vertical-align: middle;\n",
       "    }\n",
       "\n",
       "    .dataframe tbody tr th {\n",
       "        vertical-align: top;\n",
       "    }\n",
       "\n",
       "    .dataframe thead th {\n",
       "        text-align: right;\n",
       "    }\n",
       "</style>\n",
       "<table border=\"1\" class=\"dataframe\">\n",
       "  <thead>\n",
       "    <tr style=\"text-align: right;\">\n",
       "      <th></th>\n",
       "      <th>jméno</th>\n",
       "      <th>datum_narození</th>\n",
       "      <th>místo_narození</th>\n",
       "      <th>plat</th>\n",
       "      <th>místo_narození_čisté</th>\n",
       "      <th>rok_narození</th>\n",
       "      <th>datum_narození_čisté</th>\n",
       "      <th>plat_čistý</th>\n",
       "    </tr>\n",
       "  </thead>\n",
       "  <tbody>\n",
       "    <tr>\n",
       "      <th>4</th>\n",
       "      <td>Emanuel</td>\n",
       "      <td>1988-01-21</td>\n",
       "      <td>Blansko</td>\n",
       "      <td>3900</td>\n",
       "      <td>Blansko</td>\n",
       "      <td>1988</td>\n",
       "      <td>1988-01-21</td>\n",
       "      <td>3900.0</td>\n",
       "    </tr>\n",
       "  </tbody>\n",
       "</table>\n",
       "</div>"
      ],
      "text/plain": [
       "     jméno datum_narození místo_narození  plat místo_narození_čisté  \\\n",
       "4  Emanuel     1988-01-21        Blansko  3900              Blansko   \n",
       "\n",
       "  rok_narození datum_narození_čisté  plat_čistý  \n",
       "4         1988           1988-01-21      3900.0  "
      ]
     },
     "execution_count": 406,
     "metadata": {},
     "output_type": "execute_result"
    }
   ],
   "source": [
    "df.sort_values(by=\"plat_čistý\").head(1)"
   ]
  },
  {
   "cell_type": "markdown",
   "id": "9bb24d64-3fb7-4894-994d-2e1ac1f0fd37",
   "metadata": {},
   "source": [
    "Zavoláme tedy do Blanska Emanuelovi a co jsme se od něj nedozvěděli: na konci vypadla nula. Opravíme:"
   ]
  },
  {
   "cell_type": "code",
   "execution_count": 412,
   "id": "ef4d907c-4ca5-49a2-b4b3-0e8376b7fc80",
   "metadata": {},
   "outputs": [],
   "source": [
    "df.loc[df['jméno'] == 'Emanuel', 'plat_čistý'] = 39000"
   ]
  },
  {
   "cell_type": "markdown",
   "id": "1e962764-2506-40e0-9693-8304d2a1137c",
   "metadata": {},
   "source": [
    "Čistá tabulka:"
   ]
  },
  {
   "cell_type": "code",
   "execution_count": 414,
   "id": "955e9f5a-f50b-495a-a213-a0217241555c",
   "metadata": {},
   "outputs": [
    {
     "data": {
      "text/html": [
       "<div>\n",
       "<style scoped>\n",
       "    .dataframe tbody tr th:only-of-type {\n",
       "        vertical-align: middle;\n",
       "    }\n",
       "\n",
       "    .dataframe tbody tr th {\n",
       "        vertical-align: top;\n",
       "    }\n",
       "\n",
       "    .dataframe thead th {\n",
       "        text-align: right;\n",
       "    }\n",
       "</style>\n",
       "<table border=\"1\" class=\"dataframe\">\n",
       "  <thead>\n",
       "    <tr style=\"text-align: right;\">\n",
       "      <th></th>\n",
       "      <th>jméno</th>\n",
       "      <th>datum_narození</th>\n",
       "      <th>místo_narození</th>\n",
       "      <th>plat</th>\n",
       "      <th>místo_narození_čisté</th>\n",
       "      <th>rok_narození</th>\n",
       "      <th>datum_narození_čisté</th>\n",
       "      <th>plat_čistý</th>\n",
       "    </tr>\n",
       "  </thead>\n",
       "  <tbody>\n",
       "    <tr>\n",
       "      <th>0</th>\n",
       "      <td>Albína</td>\n",
       "      <td>1984-07-30</td>\n",
       "      <td>Brno</td>\n",
       "      <td>45,000</td>\n",
       "      <td>Brno</td>\n",
       "      <td>1984</td>\n",
       "      <td>1984-07-30</td>\n",
       "      <td>45000.0</td>\n",
       "    </tr>\n",
       "    <tr>\n",
       "      <th>1</th>\n",
       "      <td>Bedřich</td>\n",
       "      <td>1987-06-15</td>\n",
       "      <td>Brno-Královo Pole</td>\n",
       "      <td>43000</td>\n",
       "      <td>Brno</td>\n",
       "      <td>1987</td>\n",
       "      <td>1987-06-15</td>\n",
       "      <td>43000.0</td>\n",
       "    </tr>\n",
       "    <tr>\n",
       "      <th>2</th>\n",
       "      <td>Cecílie</td>\n",
       "      <td>jaro 1986</td>\n",
       "      <td>Blansko</td>\n",
       "      <td>45000-48000 (podle měsíce)</td>\n",
       "      <td>Blansko</td>\n",
       "      <td>1986</td>\n",
       "      <td>1986-01-01</td>\n",
       "      <td>46500.0</td>\n",
       "    </tr>\n",
       "    <tr>\n",
       "      <th>3</th>\n",
       "      <td>Dobromila</td>\n",
       "      <td>1994-12-01</td>\n",
       "      <td>Brno</td>\n",
       "      <td>39000</td>\n",
       "      <td>Brno</td>\n",
       "      <td>1994</td>\n",
       "      <td>1994-12-01</td>\n",
       "      <td>39000.0</td>\n",
       "    </tr>\n",
       "    <tr>\n",
       "      <th>4</th>\n",
       "      <td>Emanuel</td>\n",
       "      <td>1988-01-21</td>\n",
       "      <td>Blansko</td>\n",
       "      <td>3900</td>\n",
       "      <td>Blansko</td>\n",
       "      <td>1988</td>\n",
       "      <td>1988-01-21</td>\n",
       "      <td>39000.0</td>\n",
       "    </tr>\n",
       "  </tbody>\n",
       "</table>\n",
       "</div>"
      ],
      "text/plain": [
       "       jméno datum_narození     místo_narození                        plat  \\\n",
       "0     Albína     1984-07-30               Brno                      45,000   \n",
       "1    Bedřich     1987-06-15  Brno-Královo Pole                       43000   \n",
       "2    Cecílie      jaro 1986            Blansko  45000-48000 (podle měsíce)   \n",
       "3  Dobromila     1994-12-01               Brno                       39000   \n",
       "4    Emanuel     1988-01-21            Blansko                        3900   \n",
       "\n",
       "  místo_narození_čisté rok_narození datum_narození_čisté  plat_čistý  \n",
       "0                 Brno         1984           1984-07-30     45000.0  \n",
       "1                 Brno         1987           1987-06-15     43000.0  \n",
       "2              Blansko         1986           1986-01-01     46500.0  \n",
       "3                 Brno         1994           1994-12-01     39000.0  \n",
       "4              Blansko         1988           1988-01-21     39000.0  "
      ]
     },
     "execution_count": 414,
     "metadata": {},
     "output_type": "execute_result"
    }
   ],
   "source": [
    "df"
   ]
  },
  {
   "cell_type": "markdown",
   "id": "13f7fda4-1387-4e53-b639-a96362c60c73",
   "metadata": {},
   "source": [
    "A správný průměr:"
   ]
  },
  {
   "cell_type": "code",
   "execution_count": 418,
   "id": "aca8604f-d95d-4e0d-92f1-f3f9290ce4a6",
   "metadata": {},
   "outputs": [
    {
     "data": {
      "text/plain": [
       "42500.0"
      ]
     },
     "execution_count": 418,
     "metadata": {},
     "output_type": "execute_result"
    }
   ],
   "source": [
    "df['plat_čistý'].mean()"
   ]
  },
  {
   "cell_type": "markdown",
   "id": "e283bac8-906c-49f2-bef0-4592f6dc671f",
   "metadata": {},
   "source": [
    "Pokud bychom tabulku potřebovali k výpočtu důchodu, bude jedno nepřesné datum narození a jeden nepřesný výpočet platu mega průšvih. Ale dejme tomu, že jsem to dělali z jiného důvodu a takto čistá data nám stačí. Nyní si je tedy můžeme uložit pro další práci, a to do jiného adresáře a souboru než originál:"
   ]
  },
  {
   "cell_type": "code",
   "execution_count": null,
   "id": "b106b3e8-70ef-4372-8eaf-2b3d1a4977fc",
   "metadata": {},
   "outputs": [],
   "source": [
    "df[['jméno','datum_narození_čisté','místo_narození_čisté','plat_čistý']].to_csv(os.path.join(\"cista_data\",\"cista_data.csv\"))"
   ]
  }
 ],
 "metadata": {
  "kernelspec": {
   "display_name": "Python 3 (ipykernel)",
   "language": "python",
   "name": "python3"
  },
  "language_info": {
   "codemirror_mode": {
    "name": "ipython",
    "version": 3
   },
   "file_extension": ".py",
   "mimetype": "text/x-python",
   "name": "python",
   "nbconvert_exporter": "python",
   "pygments_lexer": "ipython3",
   "version": "3.12.3"
  }
 },
 "nbformat": 4,
 "nbformat_minor": 5
}
